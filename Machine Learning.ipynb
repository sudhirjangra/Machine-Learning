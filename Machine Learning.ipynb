{
 "cells": [
  {
   "cell_type": "markdown",
   "metadata": {},
   "source": [
    "\n",
    "# Q4"
   ]
  },
  {
   "cell_type": "code",
   "execution_count": 1,
   "metadata": {},
   "outputs": [],
   "source": [
    "import numpy as np"
   ]
  },
  {
   "cell_type": "code",
   "execution_count": null,
   "metadata": {
    "scrolled": true
   },
   "outputs": [],
   "source": [
    "x=int(input('1.Two Dimensional\\n''2.One Dimensional\\n'))"
   ]
  },
  {
   "cell_type": "code",
   "execution_count": null,
   "metadata": {},
   "outputs": [],
   "source": [
    "if(x==1):\n",
    "    n=int(input(\"Enter the x-dimension of 2D array: \"))\n",
    "    m=int(input(\"Enter the y-dimension of 2D array: \"))\n",
    "    \n",
    "    c=int(input(\"Select how do you want to fill the array with: \\n\"'1. With Zeros\\n''2. With Ones\\n''3. With random values\\n''4. With Diagonal Matrix\\n'))\n",
    "    if(c==1):\n",
    "        a=np.zeros((n,m))\n",
    "    if(c==2):\n",
    "        a=np.ones((n,m))\n",
    "    if(c==3):\n",
    "        a=np.random.randint(100,size=(n,m))\n",
    "    if(c==4):\n",
    "        a=np.eye(n,m,k=0)\n",
    "    print(a)"
   ]
  },
  {
   "cell_type": "code",
   "execution_count": null,
   "metadata": {},
   "outputs": [],
   "source": [
    "if(x==2):\n",
    "    p=int(input(\"Enter the size of 1D array: \"))\n",
    "    q=int(input(\"Select how do you want to fill the array with: \\n\"'1. With Zeros\\n''2. With Ones\\n''3. With random values\\n''4.Diagonal Matrix\\n'))\n",
    "    if(q==1):\n",
    "        a=np.zeros((p))\n",
    "    if(q==2):\n",
    "        a=np.ones((p))\n",
    "    if(q==3):\n",
    "        a=np.random.randint(100,size=(p))\n",
    "    if(q==4):\n",
    "        a=np.eye(p,k=0)\n",
    "    print(a)"
   ]
  },
  {
   "cell_type": "code",
   "execution_count": null,
   "metadata": {},
   "outputs": [],
   "source": [
    "\n",
    "np.eye(4,3,k=1)"
   ]
  },
  {
   "cell_type": "markdown",
   "metadata": {},
   "source": [
    "# Q5"
   ]
  },
  {
   "cell_type": "code",
   "execution_count": 2,
   "metadata": {},
   "outputs": [],
   "source": [
    "import pandas as pd,csv"
   ]
  },
  {
   "cell_type": "code",
   "execution_count": null,
   "metadata": {},
   "outputs": [],
   "source": [
    "l=np.loadtxt('iris.csv',delimiter=',',dtype='str')\n",
    "l"
   ]
  },
  {
   "cell_type": "code",
   "execution_count": null,
   "metadata": {},
   "outputs": [],
   "source": [
    "l.shape"
   ]
  },
  {
   "cell_type": "code",
   "execution_count": null,
   "metadata": {},
   "outputs": [],
   "source": [
    "l.shape[0]"
   ]
  },
  {
   "cell_type": "code",
   "execution_count": null,
   "metadata": {},
   "outputs": [],
   "source": [
    "l.shape[1]"
   ]
  },
  {
   "cell_type": "code",
   "execution_count": null,
   "metadata": {},
   "outputs": [],
   "source": [
    "l[0]"
   ]
  },
  {
   "cell_type": "code",
   "execution_count": null,
   "metadata": {},
   "outputs": [],
   "source": [
    "file=np.savetxt('TEXT.txt',l,delimiter=',',fmt='%s')"
   ]
  },
  {
   "cell_type": "code",
   "execution_count": null,
   "metadata": {},
   "outputs": [],
   "source": [
    "from datetime import datetime\n",
    "import time"
   ]
  },
  {
   "cell_type": "code",
   "execution_count": null,
   "metadata": {
    "scrolled": false
   },
   "outputs": [],
   "source": [
    "a=int(input(\"Enter the number of rows of matrix: \"))\n",
    "b=int(input(\"Enter the number of columns of matrix: \"))\n",
    "c=int(input('1. Addition\\n''2. Substraction\\n''3. Multiplication\\n'))\n",
    "p=np.random.randint(10,size=(a,b))\n",
    "q=np.random.randint(10,size=(a,b))\n",
    "if(c==1):\n",
    "    x=time.time()\n",
    "    j=p+q\n",
    "    y=time.time()\n",
    "    print(x)\n",
    "    print(y)\n",
    "    print('Time taken: ',y-x)\n",
    "    r=[[p[i,j]+q[i,j] for i in range(a)] for j in range(b)]\n",
    "    z=time.time()\n",
    "    print(\"Time taken in for loop: \",z-y)\n",
    "if(c==2):\n",
    "    x=time.time()\n",
    "    j=p-q\n",
    "    y=time.time()\n",
    "    print(x)\n",
    "    print(y)\n",
    "    print('Time taken: ',y-x)\n",
    "    r=[[p[i,j]+q[i,j] for i in range(a)] for j in range(b)]\n",
    "    z=time.time()\n",
    "    print(\"Time taken in for loop: \",z-y)\n",
    "if(c==3):\n",
    "    x=time.time()\n",
    "    result = [[sum(p * q for a, b in zip(p_row, q_col)) \n",
    "                        for q_col in zip(*q)]\n",
    "                                for p_row in p]\n",
    "  #  for r in result:\n",
    "    print(result)\n",
    "    y=time.time()\n",
    "    print(x)\n",
    "    print(y)\n",
    "    print('Time Taken: ',y-x)\n",
    "print(\"1: \\n\\n\",p)\n",
    "print(\"2: \\n\\n\",q)\n",
    "u=int(input('Choose one matrix: 1 or 2: '))\n",
    "if(u==1):\n",
    "    i=int(input(\"Enter the x-axis: \"))\n",
    "    o=int(input(\"Enter the y-axix: \"))\n",
    "    print(p[i,o])\n",
    "if(u==2):\n",
    "    i=int(input(\"Enter the x-axis: \"))\n",
    "    o=int(input(\"Enter the y-axix: \"))\n",
    "    print(q[i,o])"
   ]
  },
  {
   "cell_type": "code",
   "execution_count": null,
   "metadata": {},
   "outputs": [],
   "source": [
    "print(np.dot(p,q))"
   ]
  },
  {
   "cell_type": "markdown",
   "metadata": {},
   "source": [
    "# Q7"
   ]
  },
  {
   "cell_type": "code",
   "execution_count": 3,
   "metadata": {},
   "outputs": [
    {
     "name": "stdout",
     "output_type": "stream",
     "text": [
      "Enter the x-axis size of matrix: 2\n",
      "Enter the y-axis size of matrix: 2\n",
      "[[0. 0.]\n",
      " [0. 0.]]\n",
      "Enter the values of matrix: \n",
      "\n",
      "0.05\n",
      "0.0-2\n",
      "0.03\n",
      "0.06\n",
      "Our Matrix is: \n",
      " [[ 5. -2.]\n",
      " [ 3.  6.]]\n",
      "Absolute matrix is: \n",
      " [[5. 2.]\n",
      " [3. 6.]]\n"
     ]
    }
   ],
   "source": [
    "a=int(input(\"Enter the x-axis size of matrix: \"))\n",
    "b=int(input(\"Enter the y-axis size of matrix: \"))\n",
    "x=np.zeros(shape=(a,b))\n",
    "print(x)\n",
    "print(\"Enter the values of matrix: \\n\")\n",
    "for i in range(a):\n",
    "    for j in range(b):\n",
    "            x[i,j]=(input(x[i,j]))\n",
    "print('Our Matrix is: \\n',x)\n",
    "y=abs(x)\n",
    "print('Absolute matrix is: \\n',y)\n",
    "\n"
   ]
  },
  {
   "cell_type": "code",
   "execution_count": 4,
   "metadata": {},
   "outputs": [
    {
     "name": "stdout",
     "output_type": "stream",
     "text": [
      "[[ 5. -2.]\n",
      " [ 3.  6.]]\n",
      "Choose which you want to remove \n",
      "1.Row \n",
      "2.Column\n",
      "1\n",
      "Enter the number of rows to delete: 1\n",
      "Enter the locations: \n",
      "1\n",
      "[[ 5. -2.]]\n"
     ]
    }
   ],
   "source": [
    "\n",
    "print(x)\n",
    "l=[]\n",
    "c=int(input(\"Choose which you want to remove \\n1.Row \\n2.Column\\n\"))\n",
    "if(c==1):\n",
    "    m=int(input(\"Enter the number of rows to delete: \"))\n",
    "    print(\"Enter the locations: \")\n",
    "    for i in range(m):\n",
    "        ele=int(input())\n",
    "        l.append(ele)\n",
    "        x=np.delete(x,l,0)\n",
    "    print(x)\n",
    "if(c==2):\n",
    "    n=int(input(\"Enter the number of columns to delete: \"))\n",
    "    print(\"Enter the locations: \")\n",
    "    for i in range(n):\n",
    "        ele=int(input())\n",
    "        l.append(ele)\n",
    "        x=np.delete(x,l,1)\n",
    "    print(x)"
   ]
  },
  {
   "cell_type": "code",
   "execution_count": 6,
   "metadata": {},
   "outputs": [
    {
     "name": "stdout",
     "output_type": "stream",
     "text": [
      "[[ 5. -2.]]\n",
      "Maximum of matrix is: \n",
      "Enter the row number to find the maximum & minimum: 0\n",
      "Max:  5.0\n",
      "Min:  -2.0\n",
      "Enter the column number to find the maximum & minimum: 0\n",
      "Max:  5.0\n",
      "Min:  5.0\n"
     ]
    }
   ],
   "source": [
    "print(x)\n",
    "print(\"Maximum of matrix is: \")\n",
    "x.max()\n",
    "q=int(input('Enter the row number to find the maximum & minimum: '))\n",
    "print('Max: ',np.max(x[q,:]))\n",
    "print('Min: ',np.min(x[q,:]))\n",
    "w=int(input('Enter the column number to find the maximum & minimum: '))\n",
    "print('Max: ',np.max(x[:,w]))\n",
    "print('Min: ',np.min(x[:,w]))"
   ]
  },
  {
   "cell_type": "code",
   "execution_count": 7,
   "metadata": {},
   "outputs": [
    {
     "name": "stdout",
     "output_type": "stream",
     "text": [
      "Sum is:  3.0\n"
     ]
    }
   ],
   "source": [
    "print('Sum is: ',np.sum(x))"
   ]
  },
  {
   "cell_type": "code",
   "execution_count": 8,
   "metadata": {},
   "outputs": [
    {
     "name": "stdout",
     "output_type": "stream",
     "text": [
      "Enter the row number to find the maximum & minimum: 0\n",
      "Row-wise:  3.0\n",
      "Column-wise:  5.0\n"
     ]
    }
   ],
   "source": [
    "q=int(input('Enter the row number to find the maximum & minimum: '))\n",
    "print('Row-wise: ',np.sum(x[q,:]))\n",
    "print('Column-wise: ',np.sum(x[:,q]))"
   ]
  },
  {
   "cell_type": "code",
   "execution_count": null,
   "metadata": {},
   "outputs": [],
   "source": [
    "df=pd.read_csv('FuelConsumptionDataset.csv')"
   ]
  },
  {
   "cell_type": "code",
   "execution_count": null,
   "metadata": {},
   "outputs": [],
   "source": [
    "x=csv.reader('FuelConsumptionDataset.csv')"
   ]
  },
  {
   "cell_type": "code",
   "execution_count": null,
   "metadata": {},
   "outputs": [],
   "source": []
  },
  {
   "cell_type": "code",
   "execution_count": null,
   "metadata": {},
   "outputs": [],
   "source": []
  },
  {
   "cell_type": "code",
   "execution_count": null,
   "metadata": {},
   "outputs": [],
   "source": []
  }
 ],
 "metadata": {
  "kernelspec": {
   "display_name": "Python 3",
   "language": "python",
   "name": "python3"
  },
  "language_info": {
   "codemirror_mode": {
    "name": "ipython",
    "version": 3
   },
   "file_extension": ".py",
   "mimetype": "text/x-python",
   "name": "python",
   "nbconvert_exporter": "python",
   "pygments_lexer": "ipython3",
   "version": "3.7.0"
  }
 },
 "nbformat": 4,
 "nbformat_minor": 4
}
