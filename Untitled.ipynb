{
 "cells": [
  {
   "cell_type": "code",
   "execution_count": 1,
   "metadata": {},
   "outputs": [],
   "source": [
    "import numpy as np"
   ]
  },
  {
   "cell_type": "code",
   "execution_count": 2,
   "metadata": {},
   "outputs": [
    {
     "name": "stdout",
     "output_type": "stream",
     "text": [
      "1.Two Dimensional\n",
      "2.One Dimensional\n",
      "1\n"
     ]
    }
   ],
   "source": [
    "x=int(input('1.Two Dimensional\\n''2.One Dimensional\\n'))"
   ]
  },
  {
   "cell_type": "code",
   "execution_count": 3,
   "metadata": {},
   "outputs": [
    {
     "name": "stdout",
     "output_type": "stream",
     "text": [
      "Enter the x-dimension of 2D array: 5\n",
      "Enter the y-dimension of 2D array: 6\n",
      "Select how do you want to fill the array with: \n",
      "1. With Zeros\n",
      "2. With Ones\n",
      "3. With random values\n",
      "4. With Diagonal Matrix\n",
      "4\n",
      "[[1. 0. 0. 0. 0. 0.]\n",
      " [0. 1. 0. 0. 0. 0.]\n",
      " [0. 0. 1. 0. 0. 0.]\n",
      " [0. 0. 0. 1. 0. 0.]\n",
      " [0. 0. 0. 0. 1. 0.]]\n"
     ]
    }
   ],
   "source": [
    "if(x==1):\n",
    "    n=int(input(\"Enter the x-dimension of 2D array: \"))\n",
    "    m=int(input(\"Enter the y-dimension of 2D array: \"))\n",
    "    \n",
    "    c=int(input(\"Select how do you want to fill the array with: \\n\"'1. With Zeros\\n''2. With Ones\\n''3. With random values\\n''4. With Diagonal Matrix\\n'))\n",
    "    if(c==1):\n",
    "        a=np.zeros((n,m))\n",
    "    if(c==2):\n",
    "        a=np.ones((n,m))\n",
    "    if(c==3):\n",
    "        a=np.random.randint(100,size=(n,m))\n",
    "    if(c==4):\n",
    "        a=np.eye(n,m,k=0)\n",
    "    print(a)"
   ]
  },
  {
   "cell_type": "code",
   "execution_count": 4,
   "metadata": {},
   "outputs": [],
   "source": [
    "if(x==2):\n",
    "    p=int(input(\"Enter the size of 1D array: \"))\n",
    "    q=int(input(\"Select how do you want to fill the array with: \\n\"'1. With Zeros\\n''2. With Ones\\n''3. With random values\\n''4.Diagonal Matrix\\n'))\n",
    "    if(q==1):\n",
    "        a=np.zeros((p))\n",
    "    if(q==2):\n",
    "        a=np.ones((p))\n",
    "    if(q==3):\n",
    "        a=np.random.randint(100,size=(p))\n",
    "    if(q==4):\n",
    "        a=np.eye(p,k=0)\n",
    "    print(a)"
   ]
  },
  {
   "cell_type": "code",
   "execution_count": 6,
   "metadata": {},
   "outputs": [
    {
     "data": {
      "text/plain": [
       "array([[0., 1., 0.],\n",
       "       [0., 0., 1.],\n",
       "       [0., 0., 0.],\n",
       "       [0., 0., 0.]])"
      ]
     },
     "execution_count": 6,
     "metadata": {},
     "output_type": "execute_result"
    }
   ],
   "source": [
    "\n",
    "np.eye(4,3,k=1)"
   ]
  },
  {
   "cell_type": "code",
   "execution_count": 16,
   "metadata": {},
   "outputs": [],
   "source": [
    "import pandas as pd,csv"
   ]
  },
  {
   "cell_type": "code",
   "execution_count": 17,
   "metadata": {},
   "outputs": [
    {
     "data": {
      "text/plain": [
       "array([['\"sepal.length\"', '\"sepal.width\"', '\"petal.length\"',\n",
       "        '\"petal.width\"', '\"variety\"'],\n",
       "       ['5.1', '3.5', '1.4', '.2', '\"Setosa\"'],\n",
       "       ['4.9', '3', '1.4', '.2', '\"Setosa\"'],\n",
       "       ['4.7', '3.2', '1.3', '.2', '\"Setosa\"'],\n",
       "       ['4.6', '3.1', '1.5', '.2', '\"Setosa\"'],\n",
       "       ['5', '3.6', '1.4', '.2', '\"Setosa\"'],\n",
       "       ['5.4', '3.9', '1.7', '.4', '\"Setosa\"'],\n",
       "       ['4.6', '3.4', '1.4', '.3', '\"Setosa\"'],\n",
       "       ['5', '3.4', '1.5', '.2', '\"Setosa\"'],\n",
       "       ['4.4', '2.9', '1.4', '.2', '\"Setosa\"'],\n",
       "       ['4.9', '3.1', '1.5', '.1', '\"Setosa\"'],\n",
       "       ['5.4', '3.7', '1.5', '.2', '\"Setosa\"'],\n",
       "       ['4.8', '3.4', '1.6', '.2', '\"Setosa\"'],\n",
       "       ['4.8', '3', '1.4', '.1', '\"Setosa\"'],\n",
       "       ['4.3', '3', '1.1', '.1', '\"Setosa\"'],\n",
       "       ['5.8', '4', '1.2', '.2', '\"Setosa\"'],\n",
       "       ['5.7', '4.4', '1.5', '.4', '\"Setosa\"'],\n",
       "       ['5.4', '3.9', '1.3', '.4', '\"Setosa\"'],\n",
       "       ['5.1', '3.5', '1.4', '.3', '\"Setosa\"'],\n",
       "       ['5.7', '3.8', '1.7', '.3', '\"Setosa\"'],\n",
       "       ['5.1', '3.8', '1.5', '.3', '\"Setosa\"'],\n",
       "       ['5.4', '3.4', '1.7', '.2', '\"Setosa\"'],\n",
       "       ['5.1', '3.7', '1.5', '.4', '\"Setosa\"'],\n",
       "       ['4.6', '3.6', '1', '.2', '\"Setosa\"'],\n",
       "       ['5.1', '3.3', '1.7', '.5', '\"Setosa\"'],\n",
       "       ['4.8', '3.4', '1.9', '.2', '\"Setosa\"'],\n",
       "       ['5', '3', '1.6', '.2', '\"Setosa\"'],\n",
       "       ['5', '3.4', '1.6', '.4', '\"Setosa\"'],\n",
       "       ['5.2', '3.5', '1.5', '.2', '\"Setosa\"'],\n",
       "       ['5.2', '3.4', '1.4', '.2', '\"Setosa\"'],\n",
       "       ['4.7', '3.2', '1.6', '.2', '\"Setosa\"'],\n",
       "       ['4.8', '3.1', '1.6', '.2', '\"Setosa\"'],\n",
       "       ['5.4', '3.4', '1.5', '.4', '\"Setosa\"'],\n",
       "       ['5.2', '4.1', '1.5', '.1', '\"Setosa\"'],\n",
       "       ['5.5', '4.2', '1.4', '.2', '\"Setosa\"'],\n",
       "       ['4.9', '3.1', '1.5', '.2', '\"Setosa\"'],\n",
       "       ['5', '3.2', '1.2', '.2', '\"Setosa\"'],\n",
       "       ['5.5', '3.5', '1.3', '.2', '\"Setosa\"'],\n",
       "       ['4.9', '3.6', '1.4', '.1', '\"Setosa\"'],\n",
       "       ['4.4', '3', '1.3', '.2', '\"Setosa\"'],\n",
       "       ['5.1', '3.4', '1.5', '.2', '\"Setosa\"'],\n",
       "       ['5', '3.5', '1.3', '.3', '\"Setosa\"'],\n",
       "       ['4.5', '2.3', '1.3', '.3', '\"Setosa\"'],\n",
       "       ['4.4', '3.2', '1.3', '.2', '\"Setosa\"'],\n",
       "       ['5', '3.5', '1.6', '.6', '\"Setosa\"'],\n",
       "       ['5.1', '3.8', '1.9', '.4', '\"Setosa\"'],\n",
       "       ['4.8', '3', '1.4', '.3', '\"Setosa\"'],\n",
       "       ['5.1', '3.8', '1.6', '.2', '\"Setosa\"'],\n",
       "       ['4.6', '3.2', '1.4', '.2', '\"Setosa\"'],\n",
       "       ['5.3', '3.7', '1.5', '.2', '\"Setosa\"'],\n",
       "       ['5', '3.3', '1.4', '.2', '\"Setosa\"'],\n",
       "       ['7', '3.2', '4.7', '1.4', '\"Versicolor\"'],\n",
       "       ['6.4', '3.2', '4.5', '1.5', '\"Versicolor\"'],\n",
       "       ['6.9', '3.1', '4.9', '1.5', '\"Versicolor\"'],\n",
       "       ['5.5', '2.3', '4', '1.3', '\"Versicolor\"'],\n",
       "       ['6.5', '2.8', '4.6', '1.5', '\"Versicolor\"'],\n",
       "       ['5.7', '2.8', '4.5', '1.3', '\"Versicolor\"'],\n",
       "       ['6.3', '3.3', '4.7', '1.6', '\"Versicolor\"'],\n",
       "       ['4.9', '2.4', '3.3', '1', '\"Versicolor\"'],\n",
       "       ['6.6', '2.9', '4.6', '1.3', '\"Versicolor\"'],\n",
       "       ['5.2', '2.7', '3.9', '1.4', '\"Versicolor\"'],\n",
       "       ['5', '2', '3.5', '1', '\"Versicolor\"'],\n",
       "       ['5.9', '3', '4.2', '1.5', '\"Versicolor\"'],\n",
       "       ['6', '2.2', '4', '1', '\"Versicolor\"'],\n",
       "       ['6.1', '2.9', '4.7', '1.4', '\"Versicolor\"'],\n",
       "       ['5.6', '2.9', '3.6', '1.3', '\"Versicolor\"'],\n",
       "       ['6.7', '3.1', '4.4', '1.4', '\"Versicolor\"'],\n",
       "       ['5.6', '3', '4.5', '1.5', '\"Versicolor\"'],\n",
       "       ['5.8', '2.7', '4.1', '1', '\"Versicolor\"'],\n",
       "       ['6.2', '2.2', '4.5', '1.5', '\"Versicolor\"'],\n",
       "       ['5.6', '2.5', '3.9', '1.1', '\"Versicolor\"'],\n",
       "       ['5.9', '3.2', '4.8', '1.8', '\"Versicolor\"'],\n",
       "       ['6.1', '2.8', '4', '1.3', '\"Versicolor\"'],\n",
       "       ['6.3', '2.5', '4.9', '1.5', '\"Versicolor\"'],\n",
       "       ['6.1', '2.8', '4.7', '1.2', '\"Versicolor\"'],\n",
       "       ['6.4', '2.9', '4.3', '1.3', '\"Versicolor\"'],\n",
       "       ['6.6', '3', '4.4', '1.4', '\"Versicolor\"'],\n",
       "       ['6.8', '2.8', '4.8', '1.4', '\"Versicolor\"'],\n",
       "       ['6.7', '3', '5', '1.7', '\"Versicolor\"'],\n",
       "       ['6', '2.9', '4.5', '1.5', '\"Versicolor\"'],\n",
       "       ['5.7', '2.6', '3.5', '1', '\"Versicolor\"'],\n",
       "       ['5.5', '2.4', '3.8', '1.1', '\"Versicolor\"'],\n",
       "       ['5.5', '2.4', '3.7', '1', '\"Versicolor\"'],\n",
       "       ['5.8', '2.7', '3.9', '1.2', '\"Versicolor\"'],\n",
       "       ['6', '2.7', '5.1', '1.6', '\"Versicolor\"'],\n",
       "       ['5.4', '3', '4.5', '1.5', '\"Versicolor\"'],\n",
       "       ['6', '3.4', '4.5', '1.6', '\"Versicolor\"'],\n",
       "       ['6.7', '3.1', '4.7', '1.5', '\"Versicolor\"'],\n",
       "       ['6.3', '2.3', '4.4', '1.3', '\"Versicolor\"'],\n",
       "       ['5.6', '3', '4.1', '1.3', '\"Versicolor\"'],\n",
       "       ['5.5', '2.5', '4', '1.3', '\"Versicolor\"'],\n",
       "       ['5.5', '2.6', '4.4', '1.2', '\"Versicolor\"'],\n",
       "       ['6.1', '3', '4.6', '1.4', '\"Versicolor\"'],\n",
       "       ['5.8', '2.6', '4', '1.2', '\"Versicolor\"'],\n",
       "       ['5', '2.3', '3.3', '1', '\"Versicolor\"'],\n",
       "       ['5.6', '2.7', '4.2', '1.3', '\"Versicolor\"'],\n",
       "       ['5.7', '3', '4.2', '1.2', '\"Versicolor\"'],\n",
       "       ['5.7', '2.9', '4.2', '1.3', '\"Versicolor\"'],\n",
       "       ['6.2', '2.9', '4.3', '1.3', '\"Versicolor\"'],\n",
       "       ['5.1', '2.5', '3', '1.1', '\"Versicolor\"'],\n",
       "       ['5.7', '2.8', '4.1', '1.3', '\"Versicolor\"'],\n",
       "       ['6.3', '3.3', '6', '2.5', '\"Virginica\"'],\n",
       "       ['5.8', '2.7', '5.1', '1.9', '\"Virginica\"'],\n",
       "       ['7.1', '3', '5.9', '2.1', '\"Virginica\"'],\n",
       "       ['6.3', '2.9', '5.6', '1.8', '\"Virginica\"'],\n",
       "       ['6.5', '3', '5.8', '2.2', '\"Virginica\"'],\n",
       "       ['7.6', '3', '6.6', '2.1', '\"Virginica\"'],\n",
       "       ['4.9', '2.5', '4.5', '1.7', '\"Virginica\"'],\n",
       "       ['7.3', '2.9', '6.3', '1.8', '\"Virginica\"'],\n",
       "       ['6.7', '2.5', '5.8', '1.8', '\"Virginica\"'],\n",
       "       ['7.2', '3.6', '6.1', '2.5', '\"Virginica\"'],\n",
       "       ['6.5', '3.2', '5.1', '2', '\"Virginica\"'],\n",
       "       ['6.4', '2.7', '5.3', '1.9', '\"Virginica\"'],\n",
       "       ['6.8', '3', '5.5', '2.1', '\"Virginica\"'],\n",
       "       ['5.7', '2.5', '5', '2', '\"Virginica\"'],\n",
       "       ['5.8', '2.8', '5.1', '2.4', '\"Virginica\"'],\n",
       "       ['6.4', '3.2', '5.3', '2.3', '\"Virginica\"'],\n",
       "       ['6.5', '3', '5.5', '1.8', '\"Virginica\"'],\n",
       "       ['7.7', '3.8', '6.7', '2.2', '\"Virginica\"'],\n",
       "       ['7.7', '2.6', '6.9', '2.3', '\"Virginica\"'],\n",
       "       ['6', '2.2', '5', '1.5', '\"Virginica\"'],\n",
       "       ['6.9', '3.2', '5.7', '2.3', '\"Virginica\"'],\n",
       "       ['5.6', '2.8', '4.9', '2', '\"Virginica\"'],\n",
       "       ['7.7', '2.8', '6.7', '2', '\"Virginica\"'],\n",
       "       ['6.3', '2.7', '4.9', '1.8', '\"Virginica\"'],\n",
       "       ['6.7', '3.3', '5.7', '2.1', '\"Virginica\"'],\n",
       "       ['7.2', '3.2', '6', '1.8', '\"Virginica\"'],\n",
       "       ['6.2', '2.8', '4.8', '1.8', '\"Virginica\"'],\n",
       "       ['6.1', '3', '4.9', '1.8', '\"Virginica\"'],\n",
       "       ['6.4', '2.8', '5.6', '2.1', '\"Virginica\"'],\n",
       "       ['7.2', '3', '5.8', '1.6', '\"Virginica\"'],\n",
       "       ['7.4', '2.8', '6.1', '1.9', '\"Virginica\"'],\n",
       "       ['7.9', '3.8', '6.4', '2', '\"Virginica\"'],\n",
       "       ['6.4', '2.8', '5.6', '2.2', '\"Virginica\"'],\n",
       "       ['6.3', '2.8', '5.1', '1.5', '\"Virginica\"'],\n",
       "       ['6.1', '2.6', '5.6', '1.4', '\"Virginica\"'],\n",
       "       ['7.7', '3', '6.1', '2.3', '\"Virginica\"'],\n",
       "       ['6.3', '3.4', '5.6', '2.4', '\"Virginica\"'],\n",
       "       ['6.4', '3.1', '5.5', '1.8', '\"Virginica\"'],\n",
       "       ['6', '3', '4.8', '1.8', '\"Virginica\"'],\n",
       "       ['6.9', '3.1', '5.4', '2.1', '\"Virginica\"'],\n",
       "       ['6.7', '3.1', '5.6', '2.4', '\"Virginica\"'],\n",
       "       ['6.9', '3.1', '5.1', '2.3', '\"Virginica\"'],\n",
       "       ['5.8', '2.7', '5.1', '1.9', '\"Virginica\"'],\n",
       "       ['6.8', '3.2', '5.9', '2.3', '\"Virginica\"'],\n",
       "       ['6.7', '3.3', '5.7', '2.5', '\"Virginica\"'],\n",
       "       ['6.7', '3', '5.2', '2.3', '\"Virginica\"'],\n",
       "       ['6.3', '2.5', '5', '1.9', '\"Virginica\"'],\n",
       "       ['6.5', '3', '5.2', '2', '\"Virginica\"'],\n",
       "       ['6.2', '3.4', '5.4', '2.3', '\"Virginica\"'],\n",
       "       ['5.9', '3', '5.1', '1.8', '\"Virginica\"']], dtype='<U14')"
      ]
     },
     "execution_count": 17,
     "metadata": {},
     "output_type": "execute_result"
    }
   ],
   "source": [
    "l=np.loadtxt('iris.csv',delimiter=',',dtype='str')\n",
    "l"
   ]
  },
  {
   "cell_type": "code",
   "execution_count": 18,
   "metadata": {},
   "outputs": [
    {
     "data": {
      "text/plain": [
       "(151, 5)"
      ]
     },
     "execution_count": 18,
     "metadata": {},
     "output_type": "execute_result"
    }
   ],
   "source": [
    "l.shape"
   ]
  },
  {
   "cell_type": "code",
   "execution_count": 19,
   "metadata": {},
   "outputs": [
    {
     "data": {
      "text/plain": [
       "151"
      ]
     },
     "execution_count": 19,
     "metadata": {},
     "output_type": "execute_result"
    }
   ],
   "source": [
    "l.shape[0]"
   ]
  },
  {
   "cell_type": "code",
   "execution_count": 20,
   "metadata": {},
   "outputs": [
    {
     "data": {
      "text/plain": [
       "5"
      ]
     },
     "execution_count": 20,
     "metadata": {},
     "output_type": "execute_result"
    }
   ],
   "source": [
    "l.shape[1]"
   ]
  },
  {
   "cell_type": "code",
   "execution_count": 21,
   "metadata": {},
   "outputs": [
    {
     "data": {
      "text/plain": [
       "array(['\"sepal.length\"', '\"sepal.width\"', '\"petal.length\"',\n",
       "       '\"petal.width\"', '\"variety\"'], dtype='<U14')"
      ]
     },
     "execution_count": 21,
     "metadata": {},
     "output_type": "execute_result"
    }
   ],
   "source": [
    "l[0]"
   ]
  },
  {
   "cell_type": "code",
   "execution_count": 22,
   "metadata": {},
   "outputs": [],
   "source": [
    "file=np.savetxt('TEXT.txt',l,delimiter=',',fmt='%s')"
   ]
  },
  {
   "cell_type": "code",
   "execution_count": 27,
   "metadata": {},
   "outputs": [],
   "source": [
    "from datetime import datetime\n",
    "import time"
   ]
  },
  {
   "cell_type": "code",
   "execution_count": 45,
   "metadata": {},
   "outputs": [
    {
     "name": "stdout",
     "output_type": "stream",
     "text": [
      "Enter the number of rows of matrix: 5\n",
      "Enter the number of columns of matrix: 4\n",
      "1. Addition\n",
      "2. Substraction\n",
      "3. Multiplication\n",
      "2\n",
      "Time taken:  8.344650268554688e-06\n",
      "Time taken in for loop:  6.937980651855469e-05\n"
     ]
    }
   ],
   "source": [
    "a=int(input(\"Enter the number of rows of matrix: \"))\n",
    "b=int(input(\"Enter the number of columns of matrix: \"))\n",
    "c=int(input('1. Addition\\n''2. Substraction\\n''3. Multiplication\\n'))\n",
    "p=np.random.randint(10,size=(a,b))\n",
    "q=np.random.randint(10,size=(a,b))\n",
    "if(c==1):\n",
    "    x=time.time()\n",
    "    j=p+q\n",
    "    y=time.time()\n",
    "    x\n",
    "    y\n",
    "    print('Time taken: ',y-x)\n",
    "    r=[[p[i,j]+q[i,j] for i in range(a)] for j in range(b)]\n",
    "    z=time.time()\n",
    "    print(\"Time taken in for loop: \",z-y)\n",
    "if(c==2):\n",
    "    x=time.time()\n",
    "    j=p-q\n",
    "    y=time.time()\n",
    "    x\n",
    "    y\n",
    "    print('Time taken: ',y-x)\n",
    "    r=[[p[i,j]+q[i,j] for i in range(a)] for j in range(b)]\n",
    "    z=time.time()\n",
    "    print(\"Time taken in for loop: \",z-y)\n",
    "if(c==3):\n",
    "    x=time.time()"
   ]
  },
  {
   "cell_type": "code",
   "execution_count": null,
   "metadata": {},
   "outputs": [],
   "source": []
  }
 ],
 "metadata": {
  "kernelspec": {
   "display_name": "Python 3",
   "language": "python",
   "name": "python3"
  },
  "language_info": {
   "codemirror_mode": {
    "name": "ipython",
    "version": 3
   },
   "file_extension": ".py",
   "mimetype": "text/x-python",
   "name": "python",
   "nbconvert_exporter": "python",
   "pygments_lexer": "ipython3",
   "version": "3.7.0"
  }
 },
 "nbformat": 4,
 "nbformat_minor": 2
}
